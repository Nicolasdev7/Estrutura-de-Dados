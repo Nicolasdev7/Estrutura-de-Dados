{
 "cells": [
  {
   "cell_type": "markdown",
   "id": "b4538e36",
   "metadata": {},
   "source": [
    "#Atividade 1: Construção de Árvore de Expressão Aritmética"
   ]
  },
  {
   "cell_type": "code",
   "execution_count": 11,
   "id": "a6f96ef8",
   "metadata": {},
   "outputs": [
    {
     "data": {
      "text/plain": [
       "'1-arvore_expressao.png'"
      ]
     },
     "execution_count": 11,
     "metadata": {},
     "output_type": "execute_result"
    }
   ],
   "source": [
    "## 1-Árvore com Valores Fixos:\n",
    "\n",
    "from graphviz import Digraph\n",
    "\n",
    "tree = Digraph(comment='Árvore de Expressão Aritmética')\n",
    "\n",
    "#operadores\n",
    "operadores = [\n",
    "    ('A', '/'),\n",
    "    ('B', '*'),\n",
    "    ('C', '+'),\n",
    "    ('D', '-'),\n",
    "    ('E', '*')\n",
    "]\n",
    "\n",
    "# Folhas da árvore\n",
    "operandos = [\n",
    "    ('F', '7'),\n",
    "    ('G', '3'),\n",
    "    ('H', '5'),\n",
    "    ('I', '2'),\n",
    "    ('J', '10'),\n",
    "    ('K', '20')\n",
    "]\n",
    "\n",
    "#no no grafo, tanto operadores quanto operandos\n",
    "for id, label in operadores + operandos:\n",
    "    tree.node(id, label)  # cada nó recebe um identificador e um texto\n",
    "\n",
    "# Ligações entre os nós, formando a estrutura da expressão\n",
    "arestas = [\n",
    "    ('A', 'B'), ('A', 'E'),\n",
    "    ('B', 'C'), ('B', 'D'),\n",
    "    ('C', 'F'), ('C', 'G'),\n",
    "    ('D', 'H'), ('D', 'I'),\n",
    "    ('E', 'J'), ('E', 'K')\n",
    "]\n",
    "\n",
    "for origem, destino in arestas:\n",
    "    tree.edge(origem, destino) # conecta os nós, criando as setas da arvre\n",
    "\n",
    "tree.render('1-arvore_expressao', format='png', cleanup=True)"
   ]
  },
  {
   "cell_type": "code",
   "execution_count": null,
   "id": "7d1924fa",
   "metadata": {},
   "outputs": [
    {
     "data": {
      "text/plain": [
       "'2-arvore_expressao_aleatoria.png'"
      ]
     },
     "execution_count": 13,
     "metadata": {},
     "output_type": "execute_result"
    }
   ],
   "source": [
    "##2- Árvore com Valores Randomicos:\n",
    "\n",
    "from graphviz import Digraph\n",
    "import random   \n",
    "\n",
    "\n",
    "#funcao pro numero aleatorio\n",
    "def numero_aleatorio():\n",
    "    return str(random.randint(1, 100))\n",
    "\n",
    "#func pro opersador aleatorio\n",
    "def operador_aleatorio():\n",
    "    return random.choice(['+', '-', '*', '/'])\n",
    "\n",
    "tree = Digraph(comment='Árvore de Expressão Aritmética com Valores Aleatórios')\n",
    "\n",
    "operadores= [\n",
    "    ('A', operador_aleatorio()),\n",
    "    ('B', operador_aleatorio()),\n",
    "]\n",
    "\n",
    "operandos = [\n",
    "    ('C', numero_aleatorio()),\n",
    "    ('D', numero_aleatorio()),\n",
    "    ('E', numero_aleatorio()),\n",
    "]\n",
    "\n",
    "for id, label in operadores + operandos:\n",
    "    tree.node(id, label)\n",
    "\n",
    "    arestas = [\n",
    "        ('A', 'B'),\n",
    "        ('A', 'E'),\n",
    "        ('B', 'C'), \n",
    "        ('B', 'D')\n",
    "    ]\n",
    "\n",
    "for origem, destino in arestas:\n",
    "    tree.edge(origem, destino)\n",
    "\n",
    "tree.render('2-arvore_expressao_aleatoria', format='png', cleanup=True)\n"
   ]
  }
 ],
 "metadata": {
  "kernelspec": {
   "display_name": "Python 3",
   "language": "python",
   "name": "python3"
  },
  "language_info": {
   "codemirror_mode": {
    "name": "ipython",
    "version": 3
   },
   "file_extension": ".py",
   "mimetype": "text/x-python",
   "name": "python",
   "nbconvert_exporter": "python",
   "pygments_lexer": "ipython3",
   "version": "3.13.7"
  }
 },
 "nbformat": 4,
 "nbformat_minor": 5
}
