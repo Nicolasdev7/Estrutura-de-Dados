{
 "cells": [
  {
   "cell_type": "markdown",
   "id": "65a868bd",
   "metadata": {},
   "source": [
    " Atividade 2: Implementação de Árvore Binária de Busca (BST)\n"
   ]
  },
  {
   "cell_type": "code",
   "execution_count": null,
   "id": "8f71ee50",
   "metadata": {},
   "outputs": [],
   "source": [
    "## 1-Árvore com Valores Fixos:\n",
    "\n",
    "from graphviz import Digraph\n",
    "\n",
    "tree = Digraph(comment='Árvore de Expressão Aritmética')\n",
    "\n",
    "#operadores\n",
    "operadores = [\n",
    "    ('A', '/'),\n",
    "    ('B', '*'),\n",
    "    ('C', '+'),\n",
    "    ('D', '-'),\n",
    "    ('E', '*')\n",
    "]\n",
    "\n",
    "# Folhas da árvore\n",
    "operandos = [\n",
    "    ('F', '7'),\n",
    "    ('G', '3'),\n",
    "    ('H', '5'),\n",
    "    ('I', '2'),\n",
    "    ('J', '10'),\n",
    "    ('K', '20')\n",
    "]\n",
    "\n",
    "#no no grafo, tanto operadores quanto operandos\n",
    "for id, label in operadores + operandos:\n",
    "    tree.node(id, label)  # cada nó recebe um identificador e um texto\n",
    "\n",
    "# Ligações entre os nós, formando a estrutura da expressão\n",
    "arestas = [\n",
    "    ('A', 'B'), ('A', 'E'),\n",
    "    ('B', 'C'), ('B', 'D'),\n",
    "    ('C', 'F'), ('C', 'G'),\n",
    "    ('D', 'H'), ('D', 'I'),\n",
    "    ('E', 'J'), ('E', 'K')\n",
    "]\n",
    "\n",
    "for origem, destino in arestas:\n",
    "    tree.edge(origem, destino) # conecta os nós, criando as setas da arvre\n",
    "\n",
    "tree.render('1-arvore_BI_fixos', format='png', cleanup=True)"
   ]
  }
 ],
 "metadata": {
  "kernelspec": {
   "display_name": "Python 3",
   "language": "python",
   "name": "python3"
  },
  "language_info": {
   "name": "python",
   "version": "3.13.7"
  }
 },
 "nbformat": 4,
 "nbformat_minor": 5
}
